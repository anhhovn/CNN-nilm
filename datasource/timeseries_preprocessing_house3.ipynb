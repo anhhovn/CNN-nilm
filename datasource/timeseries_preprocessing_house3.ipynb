{
 "cells": [
  {
   "cell_type": "code",
   "execution_count": null,
   "id": "98ca3efe",
   "metadata": {},
   "outputs": [],
   "source": [
    "def power_config(data, threshold):\n",
    "    #data = data.dropna()\n",
    "    avg = data.mean()\n",
    "    if avg > threshold:\n",
    "        return 1\n",
    "    else:\n",
    "        return 0"
   ]
  },
  {
   "cell_type": "code",
   "execution_count": 15,
   "id": "7744f4c7",
   "metadata": {},
   "outputs": [],
   "source": [
    "import pandas as pd\n",
    "import math\n",
    "\n",
    "def main():\n",
    "    new = True\n",
    "\n",
    "    main_meter = 'mains1'\n",
    "    labels = ['mains1','kitchen_outlets_21','kitchen_outlets_22','furnace','washer_dryer_13',\n",
    "              'washer_dryer_14', 'microwave', 'bathroom_gfi']\n",
    "    if new is True:\n",
    "        main1 = pd.read_csv(\"low_freq/house_3/channel_1.dat\", sep=\" \", header=None, index_col=0, squeeze=True)\n",
    "        df = pd.DataFrame(columns=labels, index=main1.index)\n",
    "        df['mains1'] = main1\n",
    "       \n",
    "        ko_21 = pd.read_csv(\"low_freq/house_3/channel_21.dat\", sep=\" \", header=None, index_col=0, squeeze=True)\n",
    "        ko_22 = pd.read_csv(\"low_freq/house_3/channel_22.dat\", sep=\" \", header=None, index_col=0, squeeze=True)\n",
    "      \n",
    "        df['kitchen_outlets_21'] = ko_21\n",
    "        df['kitchen_outlets_22'] = ko_22\n",
    "       \n",
    "        \n",
    "        furnace = pd.read_csv(\"low_freq/house_3/channel_10.dat\", sep=\" \", header=None, index_col=0, squeeze=True)\n",
    "        df['furnace'] = furnace\n",
    "        \n",
    "        microwave = pd.read_csv(\"low_freq/house_3/channel_16.dat\", sep=\" \", header=None, index_col=0, squeeze=True)\n",
    "        df['microwave'] = microwave\n",
    "        \n",
    "        washer_dryer_13 = pd.read_csv(\"low_freq/house_3/channel_13.dat\", sep=\" \", header=None, index_col=0, squeeze=True)\n",
    "        washer_dryer_14 = pd.read_csv(\"low_freq/house_3/channel_14.dat\", sep=\" \", header=None, index_col=0, squeeze=True)\n",
    "        df['washer_dryer_13'] = washer_dryer_13\n",
    "        df['washer_dryer_14'] = washer_dryer_14\n",
    "       \n",
    "        bathroom_gfi = pd.read_csv(\"low_freq/house_3/channel_20.dat\", sep=\" \", header=None, index_col=0, squeeze=True)\n",
    "        df['bathroom_gfi'] = bathroom_gfi\n",
    "        \n",
    "        start_row, end_row = ko_21.index[0], ko_21.index[-1]\n",
    "       \n",
    "    \n",
    "        df = df[start_row <= df.index]\n",
    "        df = df[df.index <= end_row + 3]\n",
    "        df = df.reset_index(drop=True)\n",
    "        df.to_csv(\"house3-nosampling/combine_h3.csv\")\n",
    "    else:\n",
    "        df = pd.read_csv(\"house1-nosampling/combine_h1.csv\", index_col=0)"
   ]
  },
  {
   "cell_type": "code",
   "execution_count": 16,
   "id": "e53ddf88",
   "metadata": {},
   "outputs": [],
   "source": [
    "main()"
   ]
  },
  {
   "cell_type": "code",
   "execution_count": 17,
   "id": "aafd88f9",
   "metadata": {},
   "outputs": [],
   "source": [
    "combine_h3 = pd.read_csv(\"house3-nosampling/combine_h3.csv\", index_col=0)"
   ]
  },
  {
   "cell_type": "code",
   "execution_count": 18,
   "id": "dda0dbcb",
   "metadata": {},
   "outputs": [],
   "source": [
    "combine_h3 = combine_h3.dropna()\n",
    "combine_h3 = combine_h3.reset_index(drop=True)"
   ]
  },
  {
   "cell_type": "code",
   "execution_count": 20,
   "id": "2297ed54",
   "metadata": {},
   "outputs": [],
   "source": [
    "house3_threshold = pd.read_csv(\"house3-nosampling/threshold.csv\")"
   ]
  },
  {
   "cell_type": "code",
   "execution_count": 21,
   "id": "6915c745",
   "metadata": {},
   "outputs": [],
   "source": [
    "labeled_combine_h3 = pd.DataFrame()"
   ]
  },
  {
   "cell_type": "code",
   "execution_count": 22,
   "id": "c5327302",
   "metadata": {},
   "outputs": [],
   "source": [
    "labeled_ko21 = [0 if combine_h3['kitchen_outlets_21'][i] < house3_threshold['kitchen_outlets_21'][0] else 1 for i in range(len(combine_h3))]\n",
    "labeled_ko22 = [0 if combine_h3['kitchen_outlets_22'][i] < house3_threshold['kitchen_outlets_22'][0] else 1 for i in range(len(combine_h3))]\n"
   ]
  },
  {
   "cell_type": "code",
   "execution_count": 23,
   "id": "6c79d2f4",
   "metadata": {},
   "outputs": [],
   "source": [
    "labeled_washerdryer13 = [0 if combine_h3['washer_dryer_13'][i] < house3_threshold['washer_dryer_13'][0] else 1 for i in range(len(combine_h3))]\n",
    "labeled_washerdryer24 = [0 if combine_h3['washer_dryer_14'][i] < house3_threshold['washer_dryer_14'][0] else 1 for i in range(len(combine_h3))]"
   ]
  },
  {
   "cell_type": "code",
   "execution_count": 24,
   "id": "4bca12d6",
   "metadata": {},
   "outputs": [],
   "source": [
    "labeled_furnace = [0 if combine_h3['furnace'][i] < house3_threshold['furnace'][0] else 1 for i in range(len(combine_h3))]"
   ]
  },
  {
   "cell_type": "code",
   "execution_count": 25,
   "id": "50ab1892",
   "metadata": {},
   "outputs": [],
   "source": [
    "labeled_microwave = [0 if combine_h3['microwave'][i] < house3_threshold['microwave'][0] else 1 for i in range(len(combine_h3))]\n",
    "labeled_bathroomgfi = [0 if combine_h3['bathroom_gfi'][i] < house3_threshold['bathroom_gfi'][0] else 1 for i in range(len(combine_h3))]"
   ]
  },
  {
   "cell_type": "code",
   "execution_count": 26,
   "id": "8396c35c",
   "metadata": {},
   "outputs": [],
   "source": [
    "labeled_combine_h3['main'] = combine_h3['mains1']\n",
    "\n",
    "labeled_combine_h3['kitchen_outlets_21'] = labeled_ko21\n",
    "labeled_combine_h3['kitchen_outlets_22'] = labeled_ko22\n",
    "\n",
    "labeled_combine_h3['washer_dryer_13'] = labeled_washerdryer13\n",
    "labeled_combine_h3['washer_dryer_14'] = labeled_washerdryer24\n",
    "\n",
    "labeled_combine_h3['furnace'] = labeled_furnace\n",
    "labeled_combine_h3['microwave'] = labeled_microwave\n",
    "labeled_combine_h3['bathroom_gfi'] = labeled_bathroomgfi"
   ]
  },
  {
   "cell_type": "code",
   "execution_count": 29,
   "id": "75a4300d",
   "metadata": {},
   "outputs": [],
   "source": [
    "window = 100\n",
    "\n",
    "sampl = labeled_combine_h3.copy()\n",
    "rem = len(sampl) % window\n",
    "if rem > 0:\n",
    "    sampl = sampl[:-rem]\n",
    "#type(sampl.values)"
   ]
  },
  {
   "cell_type": "code",
   "execution_count": 31,
   "id": "24e634c5",
   "metadata": {
    "scrolled": true
   },
   "outputs": [],
   "source": [
    "import numpy as np\n",
    "array_values = sampl.values\n",
    "n = len(array_values)\n",
    "k = 10  #steps\n",
    "window = 100 #window\n",
    "r = math.floor(n/k)\n",
    "new_array = []\n",
    "for i in range(r - (window // k) + 1):\n",
    "    #print(i)\n",
    "    next_window = array_values[(i*k):(i*k)+window]\n",
    "    #print(next_window)\n",
    "    new_array.append(next_window)\n",
    "new_array = np.asarray(new_array)\n",
    "tobe_df_arr = new_array.reshape(new_array.shape[0]*new_array.shape[1],new_array.shape[2]) # reshape\n",
    "\n",
    "temp_df = pd.DataFrame(tobe_df_arr, columns=labeled_combine_h3.columns)"
   ]
  },
  {
   "cell_type": "code",
   "execution_count": 32,
   "id": "1611ef0a",
   "metadata": {},
   "outputs": [],
   "source": [
    "temp_df.to_csv('house3-nosampling/h3_5min.csv')"
   ]
  },
  {
   "cell_type": "code",
   "execution_count": 33,
   "id": "95601f7b",
   "metadata": {},
   "outputs": [
    {
     "data": {
      "text/plain": [
       "3760100"
      ]
     },
     "execution_count": 33,
     "metadata": {},
     "output_type": "execute_result"
    }
   ],
   "source": [
    "len(temp_df)"
   ]
  },
  {
   "cell_type": "code",
   "execution_count": null,
   "id": "8a6a6db8",
   "metadata": {},
   "outputs": [],
   "source": [
    "temp_df"
   ]
  },
  {
   "cell_type": "code",
   "execution_count": null,
   "id": "8ce0fb9c",
   "metadata": {},
   "outputs": [],
   "source": []
  }
 ],
 "metadata": {
  "kernelspec": {
   "display_name": "Python 3 (ipykernel)",
   "language": "python",
   "name": "python3"
  },
  "language_info": {
   "codemirror_mode": {
    "name": "ipython",
    "version": 3
   },
   "file_extension": ".py",
   "mimetype": "text/x-python",
   "name": "python",
   "nbconvert_exporter": "python",
   "pygments_lexer": "ipython3",
   "version": "3.8.13"
  }
 },
 "nbformat": 4,
 "nbformat_minor": 5
}
