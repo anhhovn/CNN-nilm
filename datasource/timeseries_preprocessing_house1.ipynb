{
 "cells": [
  {
   "cell_type": "code",
   "execution_count": null,
   "id": "98ca3efe",
   "metadata": {},
   "outputs": [],
   "source": [
    "def power_config(data, threshold):\n",
    "    #data = data.dropna()\n",
    "    avg = data.mean()\n",
    "    if avg > threshold:\n",
    "        return 1\n",
    "    else:\n",
    "        return 0"
   ]
  },
  {
   "cell_type": "code",
   "execution_count": null,
   "id": "7744f4c7",
   "metadata": {},
   "outputs": [],
   "source": [
    "import pandas as pd\n",
    "import math\n",
    "\n",
    "def main():\n",
    "    new = True\n",
    "    main_meter = 'mains1'\n",
    "    labels = ['mains1','kitchen_outlets_7','kitchen_outlets_8','kitchen_outlets_15','kitchen_outlets_16'\n",
    "              ,'lighting_9','lighting_17','lighting_18','electric_oven_3','electric_oven_4','microwave','washer_dryer_10',\n",
    "              'washer_dryer_20', 'refrigerator', 'bathroom_gfi']\n",
    "    if new is True:\n",
    "        main1 = pd.read_csv(\"low_freq/house_1/channel_1.dat\", sep=\" \", header=None, index_col=0, squeeze=True)\n",
    "        \n",
    "        df = pd.DataFrame(columns=labels, index=main1.index)\n",
    "        df['mains1'] = main1\n",
    "        print(df)\n",
    "        \n",
    "        ko_7 = pd.read_csv(\"low_freq/house_1/channel_7.dat\", sep=\" \", header=None, index_col=0, squeeze=True)\n",
    "        ko_8 = pd.read_csv(\"low_freq/house_1/channel_8.dat\", sep=\" \", header=None, index_col=0, squeeze=True)\n",
    "        ko_15 = pd.read_csv(\"low_freq/house_1/channel_15.dat\", sep=\" \", header=None, index_col=0, squeeze=True)\n",
    "        ko_16 = pd.read_csv(\"low_freq/house_1/channel_16.dat\", sep=\" \", header=None, index_col=0, squeeze=True)\n",
    "        df['kitchen_outlets_7'] = ko_7\n",
    "        df['kitchen_outlets_8'] = ko_8\n",
    "        df['kitchen_outlets_15'] = ko_15\n",
    "        df['kitchen_outlets_16'] = ko_16\n",
    "        \n",
    "        light_9 = pd.read_csv(\"low_freq/house_1/channel_9.dat\", sep=\" \", header=None, index_col=0, squeeze=True)\n",
    "        light_17 = pd.read_csv(\"low_freq/house_1/channel_17.dat\", sep=\" \", header=None, index_col=0, squeeze=True)\n",
    "        light_18 = pd.read_csv(\"low_freq/house_1/channel_18.dat\", sep=\" \", header=None, index_col=0, squeeze=True)\n",
    "        df['lighting_9'] = light_9\n",
    "        df['lighting_17'] = light_17\n",
    "        df['lighting_18'] = light_18\n",
    "        \n",
    "        electric_oven_3 = pd.read_csv(\"low_freq/house_1/channel_3.dat\", sep=\" \", header=None, index_col=0, squeeze=True)\n",
    "        electric_oven_4 = pd.read_csv(\"low_freq/house_1/channel_4.dat\", sep=\" \", header=None, index_col=0, squeeze=True)\n",
    "        df['electric_oven_3'] = electric_oven_3\n",
    "        df['electric_oven_4'] = electric_oven_4\n",
    "        \n",
    "        microwave = pd.read_csv(\"low_freq/house_1/channel_11.dat\", sep=\" \", header=None, index_col=0, squeeze=True)\n",
    "        df['microwave'] = microwave\n",
    "        \n",
    "        washer_dryer_10 = pd.read_csv(\"low_freq/house_1/channel_10.dat\", sep=\" \", header=None, index_col=0, squeeze=True)\n",
    "        washer_dryer_20 = pd.read_csv(\"low_freq/house_1/channel_20.dat\", sep=\" \", header=None, index_col=0, squeeze=True)\n",
    "        df['washer_dryer_10'] = washer_dryer_10\n",
    "        df['washer_dryer_20'] = washer_dryer_20\n",
    "       \n",
    "        refrigerator = pd.read_csv(\"low_freq/house_1/channel_5.dat\", sep=\" \", header=None, index_col=0, squeeze=True)\n",
    "        df['refrigerator'] = refrigerator\n",
    "        \n",
    "        bathroom_gfi = pd.read_csv(\"low_freq/house_1/channel_12.dat\", sep=\" \", header=None, index_col=0, squeeze=True)\n",
    "        df['bathroom_gfi'] = bathroom_gfi\n",
    "        \n",
    "        start_row, end_row = ko_7.index[0], ko_7.index[-1]\n",
    "       \n",
    "    \n",
    "        df = df[start_row <= df.index]\n",
    "        df = df[df.index <= end_row + 3]\n",
    "        df = df.reset_index(drop=True)\n",
    "        df.to_csv(\"house1-nosampling/combine_h1.csv\")\n",
    "    else:\n",
    "        df = pd.read_csv(\"house1-nosampling/combine_h1.csv\", index_col=0)\n",
    "   "
   ]
  },
  {
   "cell_type": "code",
   "execution_count": null,
   "id": "e53ddf88",
   "metadata": {
    "scrolled": false
   },
   "outputs": [],
   "source": [
    "main()"
   ]
  },
  {
   "cell_type": "code",
   "execution_count": null,
   "id": "aafd88f9",
   "metadata": {},
   "outputs": [],
   "source": [
    "combine_h1 = pd.read_csv(\"house1-nosampling/combine_h1.csv\", index_col=0)"
   ]
  },
  {
   "cell_type": "code",
   "execution_count": null,
   "id": "dda0dbcb",
   "metadata": {},
   "outputs": [],
   "source": [
    "combine_h1 = combine_h1.dropna()\n",
    "combine_h1 = combine_h1.reset_index(drop=True)"
   ]
  },
  {
   "cell_type": "code",
   "execution_count": null,
   "id": "2297ed54",
   "metadata": {},
   "outputs": [],
   "source": [
    "house1_threshold = pd.read_csv(\"house1-nosampling/threshold.csv\")"
   ]
  },
  {
   "cell_type": "code",
   "execution_count": null,
   "id": "6915c745",
   "metadata": {},
   "outputs": [],
   "source": [
    "labeled_combine_h1 = pd.DataFrame()"
   ]
  },
  {
   "cell_type": "code",
   "execution_count": null,
   "id": "c5327302",
   "metadata": {},
   "outputs": [],
   "source": [
    "labeled_ko7 = [0 if combine_h1['kitchen_outlets_7'][i] < house1_threshold['kitchen_outlets_7'][0] else 1 for i in range(len(combine_h1))]\n",
    "labeled_ko8 = [0 if combine_h1['kitchen_outlets_8'][i] < house1_threshold['kitchen_outlets_8'][0] else 1 for i in range(len(combine_h1))]\n",
    "labeled_ko15 = [0 if combine_h1['kitchen_outlets_15'][i] < house1_threshold['kitchen_outlets_15'][0] else 1 for i in range(len(combine_h1))]\n",
    "labeled_ko16 = [0 if combine_h1['kitchen_outlets_16'][i] < house1_threshold['kitchen_outlets_16'][0] else 1 for i in range(len(combine_h1))]"
   ]
  },
  {
   "cell_type": "code",
   "execution_count": null,
   "id": "fd919553",
   "metadata": {},
   "outputs": [],
   "source": [
    "labeled_light9 = [0 if combine_h1['lighting_9'][i] < house1_threshold['lighting_9'][0] else 1 for i in range(len(combine_h1))]\n",
    "labeled_light17 = [0 if combine_h1['lighting_17'][i] < house1_threshold['lighting_17'][0] else 1 for i in range(len(combine_h1))]\n",
    "labeled_light18 = [0 if combine_h1['lighting_18'][i] < house1_threshold['lighting_18'][0] else 1 for i in range(len(combine_h1))]"
   ]
  },
  {
   "cell_type": "code",
   "execution_count": null,
   "id": "6c79d2f4",
   "metadata": {},
   "outputs": [],
   "source": [
    "labeled_washerdryer10 = [0 if combine_h1['washer_dryer_10'][i] < house1_threshold['washer_dryer_10'][0] else 1 for i in range(len(combine_h1))]\n",
    "labeled_washerdryer20 = [0 if combine_h1['washer_dryer_20'][i] < house1_threshold['washer_dryer_20'][0] else 1 for i in range(len(combine_h1))]"
   ]
  },
  {
   "cell_type": "code",
   "execution_count": null,
   "id": "4bca12d6",
   "metadata": {},
   "outputs": [],
   "source": [
    "labeled_electric_oven3 = [0 if combine_h1['electric_oven_3'][i] < house1_threshold['electric_oven_3'][0] else 1 for i in range(len(combine_h1))]\n",
    "labeled_electric_oven4 = [0 if combine_h1['electric_oven_4'][i] < house1_threshold['electric_oven_4'][0] else 1 for i in range(len(combine_h1))]"
   ]
  },
  {
   "cell_type": "code",
   "execution_count": null,
   "id": "50ab1892",
   "metadata": {},
   "outputs": [],
   "source": [
    "labeled_fridge = [0 if combine_h1['refrigerator'][i] < house1_threshold['refrigerator'][0] else 1 for i in range(len(combine_h1))]\n",
    "labeled_microwave = [0 if combine_h1['microwave'][i] < house1_threshold['microwave'][0] else 1 for i in range(len(combine_h1))]\n",
    "labeled_bathroomgfi = [0 if combine_h1['bathroom_gfi'][i] < house1_threshold['bathroom_gfi'][0] else 1 for i in range(len(combine_h1))]"
   ]
  },
  {
   "cell_type": "code",
   "execution_count": null,
   "id": "8396c35c",
   "metadata": {},
   "outputs": [],
   "source": [
    "labeled_combine_h1['main'] = combine_h1['mains1']\n",
    "\n",
    "labeled_combine_h1['kitchen_outlets_7'] = labeled_ko7\n",
    "labeled_combine_h1['kitchen_outlets_8'] = labeled_ko8\n",
    "labeled_combine_h1['kitchen_outlets_15'] = labeled_ko15\n",
    "labeled_combine_h1['kitchen_outlets_16'] = labeled_ko16\n",
    "\n",
    "labeled_combine_h1['lighting_9'] = labeled_light9\n",
    "labeled_combine_h1['lighting_17'] = labeled_light17\n",
    "labeled_combine_h1['lighting_18'] = labeled_light18\n",
    "\n",
    "labeled_combine_h1['washer_dryer_10'] = labeled_washerdryer10\n",
    "labeled_combine_h1['washer_dryer_20'] = labeled_washerdryer20\n",
    "\n",
    "labeled_combine_h1['electric_oven_3'] = labeled_electric_oven3\n",
    "labeled_combine_h1['electric_oven_4'] = labeled_electric_oven4\n",
    "\n",
    "labeled_combine_h1['refrigerator'] = labeled_fridge\n",
    "labeled_combine_h1['microwave'] = labeled_microwave\n",
    "labeled_combine_h1['bathroom_gfi'] = labeled_bathroomgfi"
   ]
  },
  {
   "cell_type": "code",
   "execution_count": null,
   "id": "75a4300d",
   "metadata": {},
   "outputs": [],
   "source": [
    "window = 100\n",
    "\n",
    "sampl = labeled_combine_h1.copy()\n",
    "rem = len(sampl) % window\n",
    "if rem > 0:\n",
    "    sampl = sampl[:-rem]\n",
    "#type(sampl.values)"
   ]
  },
  {
   "cell_type": "code",
   "execution_count": null,
   "id": "24e634c5",
   "metadata": {
    "scrolled": true
   },
   "outputs": [],
   "source": [
    "import numpy as np\n",
    "array_values = sampl.values\n",
    "n = len(array_values)\n",
    "k = 10  #steps\n",
    "window = 100 #window\n",
    "r = math.floor(n/k)\n",
    "new_array = []\n",
    "for i in range(r - (window // k) + 1):\n",
    "    #print(i)\n",
    "    next_window = array_values[(i*k):(i*k)+window]\n",
    "    #print(next_window)\n",
    "    new_array.append(next_window)\n",
    "new_array = np.asarray(new_array)\n",
    "tobe_df_arr = new_array.reshape(new_array.shape[0]*new_array.shape[1],new_array.shape[2]) # reshape\n",
    "\n",
    "temp_df = pd.DataFrame(tobe_df_arr, columns=labeled_combine_h1.columns)"
   ]
  },
  {
   "cell_type": "code",
   "execution_count": null,
   "id": "1611ef0a",
   "metadata": {},
   "outputs": [],
   "source": [
    "temp_df.to_csv('house1-nosampling/h1_5min.csv')"
   ]
  },
  {
   "cell_type": "code",
   "execution_count": null,
   "id": "95601f7b",
   "metadata": {},
   "outputs": [],
   "source": [
    "len(temp_df)"
   ]
  },
  {
   "cell_type": "code",
   "execution_count": null,
   "id": "8a6a6db8",
   "metadata": {},
   "outputs": [],
   "source": [
    "temp_df"
   ]
  },
  {
   "cell_type": "code",
   "execution_count": null,
   "id": "8ce0fb9c",
   "metadata": {},
   "outputs": [],
   "source": []
  }
 ],
 "metadata": {
  "kernelspec": {
   "display_name": "Python 3 (ipykernel)",
   "language": "python",
   "name": "python3"
  },
  "language_info": {
   "codemirror_mode": {
    "name": "ipython",
    "version": 3
   },
   "file_extension": ".py",
   "mimetype": "text/x-python",
   "name": "python",
   "nbconvert_exporter": "python",
   "pygments_lexer": "ipython3",
   "version": "3.8.13"
  }
 },
 "nbformat": 4,
 "nbformat_minor": 5
}
