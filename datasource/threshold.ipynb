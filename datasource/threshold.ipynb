{
 "cells": [
  {
   "cell_type": "code",
   "execution_count": 74,
   "id": "9d82fc87",
   "metadata": {},
   "outputs": [],
   "source": [
    "import pandas as pd\n",
    "import matplotlib.pyplot as plt\n",
    "%matplotlib inline"
   ]
  },
  {
   "cell_type": "markdown",
   "id": "c3bf8b0e",
   "metadata": {},
   "source": [
    "## house 1"
   ]
  },
  {
   "cell_type": "code",
   "execution_count": null,
   "id": "98fe8305",
   "metadata": {},
   "outputs": [],
   "source": [
    "electric_oven = pd.read_csv(\"low_freq/house_1/channel_4.dat\", sep=\" \", header=None, index_col=0, squeeze=True)\n",
    "microwave = pd.read_csv(\"low_freq/house_1/channel_11.dat\", sep=\" \", header=None, index_col=0, squeeze=True)\n",
    "light = pd.read_csv(\"low_freq/house_1/channel_18.dat\", sep=\" \", header=None, index_col=0, squeeze=True)\n",
    "light_c17 = pd.read_csv(\"low_freq/house_1/channel_17.dat\", sep=\" \", header=None, index_col=0, squeeze=True)\n",
    "fridge = pd.read_csv(\"low_freq/house_1/channel_5.dat\", sep=\" \", header=None, index_col=0, squeeze=True)\n",
    "washer_dryer = pd.read_csv(\"low_freq/house_1/channel_19.dat\", sep=\" \", header=None, index_col=0, squeeze=True)\n",
    "bathroom_gfi = pd.read_csv(\"low_freq/house_1/channel_12.dat\", sep=\" \", header=None, index_col=0, squeeze=True)\n",
    "kitchen_outlet = pd.read_csv(\"low_freq/house_1/channel_16.dat\", sep=\" \", header=None, index_col=0, squeeze=True)"
   ]
  },
  {
   "cell_type": "code",
   "execution_count": null,
   "id": "b4bc6ed3",
   "metadata": {},
   "outputs": [],
   "source": [
    "#5 min windows \n",
    "electric_oven = electric_oven[electric_oven.index % 100 == 0]\n",
    "microwave = microwave[microwave.index % 100 == 0]\n",
    "light = light[light.index % 100 == 0]\n",
    "light_c17 = light_c17[light_c17.index % 100 == 0]\n",
    "fridge = fridge[fridge.index % 100 == 0]\n",
    "washer_dryer = washer_dryer[washer_dryer.index % 100 == 0]\n",
    "bathroom_gfi = bathroom_gfi[bathroom_gfi.index % 100 == 0]\n",
    "kitchen_outlet = kitchen_outlet[kitchen_outlet.index % 100 == 0]"
   ]
  },
  {
   "cell_type": "code",
   "execution_count": null,
   "id": "80f432be",
   "metadata": {},
   "outputs": [],
   "source": [
    "#reindex\n",
    "electric_oven = electric_oven.reset_index(drop=True)\n",
    "microwave = microwave.reset_index(drop=True)\n",
    "light = light.reset_index(drop=True)\n",
    "light_c17 = light_c17.reset_index(drop=True)\n",
    "fridge = fridge.reset_index(drop=True)\n",
    "washer_dryer = washer_dryer.reset_index(drop=True)\n",
    "bathroom_gfi = bathroom_gfi.reset_index(drop=True)\n",
    "kitchen_outlet = kitchen_outlet.reset_index(drop=True)"
   ]
  },
  {
   "cell_type": "markdown",
   "id": "71699561",
   "metadata": {},
   "source": [
    "### Kitchen outlet"
   ]
  },
  {
   "cell_type": "code",
   "execution_count": null,
   "id": "394a42cc",
   "metadata": {},
   "outputs": [],
   "source": [
    "fig, ax = plt.subplots(figsize=(10, 10))\n",
    "ax.set_xlabel('t')\n",
    "ax.set_ylabel('power')\n",
    "ax.set_title('Time series plot of kitchen outlet (c16) in house 1')\n",
    "ax.plot(kitchen_outlet);\n",
    "#ax.set_ylim(0,250)\n",
    "\n",
    "plt.savefig('threshold/house1/ko-house1-c16')"
   ]
  },
  {
   "cell_type": "markdown",
   "id": "eceea101",
   "metadata": {},
   "source": [
    "### Electric Oven"
   ]
  },
  {
   "cell_type": "code",
   "execution_count": null,
   "id": "2d5c6f29",
   "metadata": {},
   "outputs": [],
   "source": [
    "fig, ax = plt.subplots(figsize=(10, 10))\n",
    "ax.set_xlabel('t')\n",
    "ax.set_ylabel('power')\n",
    "ax.set_title('Time series plot of electric oven (c4) in house 1')\n",
    "ax.plot(electric_oven);\n",
    "#ax.set_ylim(0,100)\n",
    "\n",
    "plt.savefig('threshold/house1/eoven-house1-c4')"
   ]
  },
  {
   "cell_type": "markdown",
   "id": "b5556a10",
   "metadata": {},
   "source": [
    "### Fridge"
   ]
  },
  {
   "cell_type": "code",
   "execution_count": null,
   "id": "6e9458a1",
   "metadata": {},
   "outputs": [],
   "source": [
    "fig, ax = plt.subplots(figsize=(10, 10))\n",
    "ax.set_xlabel('t')\n",
    "ax.set_ylabel('power')\n",
    "ax.set_title('Time series plot of fridge (c5) in house 1')\n",
    "ax.plot(fridge);\n",
    "#ax.set_ylim(0,500)\n",
    "\n",
    "plt.savefig('threshold/house1/fridge-house1-c5')"
   ]
  },
  {
   "cell_type": "markdown",
   "id": "cf1638d1",
   "metadata": {},
   "source": [
    "### Washer Dryer"
   ]
  },
  {
   "cell_type": "code",
   "execution_count": null,
   "id": "ce309184",
   "metadata": {},
   "outputs": [],
   "source": [
    "fig, ax = plt.subplots(figsize=(10, 10))\n",
    "ax.set_xlabel('t')\n",
    "ax.set_ylabel('power')\n",
    "ax.set_title('Time series plot of washer dryer (c19) in house 1')\n",
    "ax.plot(washer_dryer);\n",
    "#ax.set_ylim(0,3000)\n",
    "\n",
    "plt.savefig('threshold/house1/washerdryer-house1-c19')"
   ]
  },
  {
   "cell_type": "markdown",
   "id": "7b081a88",
   "metadata": {},
   "source": [
    "### Light"
   ]
  },
  {
   "cell_type": "code",
   "execution_count": null,
   "id": "03efffd7",
   "metadata": {},
   "outputs": [],
   "source": [
    "fig, ax = plt.subplots(figsize=(10, 10))\n",
    "ax.set_xlabel('t')\n",
    "ax.set_ylabel('power')\n",
    "ax.set_title('Time series plot of light (c18) in house 1')\n",
    "ax.plot(light);\n",
    "#ax.set_ylim(0,3000)\n",
    "\n",
    "plt.savefig('threshold/house1/light-house1-c18')"
   ]
  },
  {
   "cell_type": "code",
   "execution_count": null,
   "id": "e61c8fbf",
   "metadata": {},
   "outputs": [],
   "source": [
    "fig, ax = plt.subplots(figsize=(10, 10))\n",
    "ax.set_xlabel('t')\n",
    "ax.set_ylabel('power')\n",
    "ax.set_title('Time series plot of light (c17) in house 1')\n",
    "ax.plot(light_c17);\n",
    "#ax.set_ylim(0,3000)\n",
    "\n",
    "plt.savefig('threshold/house1/light-house1-c17')"
   ]
  },
  {
   "cell_type": "markdown",
   "id": "ccb7707f",
   "metadata": {},
   "source": [
    "### Mirowave"
   ]
  },
  {
   "cell_type": "code",
   "execution_count": null,
   "id": "339209a7",
   "metadata": {},
   "outputs": [],
   "source": [
    "fig, ax = plt.subplots(figsize=(10, 10))\n",
    "ax.set_xlabel('t')\n",
    "ax.set_ylabel('power')\n",
    "ax.set_title('Time series plot of microwave (c11) in house 1')\n",
    "ax.plot(microwave);\n",
    "#ax.set_ylim(0,200)\n",
    "\n",
    "plt.savefig('threshold/house1/microwave-house1-c11')"
   ]
  },
  {
   "cell_type": "markdown",
   "id": "05f21bd3",
   "metadata": {},
   "source": [
    "### Bathroom GFI"
   ]
  },
  {
   "cell_type": "code",
   "execution_count": null,
   "id": "be63c650",
   "metadata": {},
   "outputs": [],
   "source": [
    "fig, ax = plt.subplots(figsize=(10, 10))\n",
    "ax.set_xlabel('t')\n",
    "ax.set_ylabel('power')\n",
    "ax.set_title('Time series plot of bathroom gfi (c12) in house 1')\n",
    "ax.plot(bathroom_gfi);\n",
    "#ax.set_ylim(0,200)\n",
    "\n",
    "plt.savefig('threshold/house1/bathroomgfi-house1-c12')"
   ]
  },
  {
   "cell_type": "markdown",
   "id": "595e567b",
   "metadata": {},
   "source": [
    "### Microwave"
   ]
  },
  {
   "cell_type": "code",
   "execution_count": null,
   "id": "f6b90558",
   "metadata": {},
   "outputs": [],
   "source": [
    "fig, ax = plt.subplots(figsize=(10, 10))\n",
    "ax.set_xlabel('t')\n",
    "ax.set_ylabel('power')\n",
    "ax.set_title('Time series plot of microwave (c11) in house 1')\n",
    "ax.plot(microwave);\n",
    "#ax.set_ylim(0,200)\n",
    "\n",
    "plt.savefig('threshold/house1/microwave-house1-c11')"
   ]
  },
  {
   "cell_type": "markdown",
   "id": "ef54a266",
   "metadata": {},
   "source": [
    "## House 3"
   ]
  },
  {
   "cell_type": "code",
   "execution_count": null,
   "id": "904a97a3",
   "metadata": {},
   "outputs": [],
   "source": [
    "electric_furnace = pd.read_csv(\"low_freq/house_3/channel_10.dat\", sep=\" \", header=None, index_col=0, squeeze=True)\n",
    "microwave_h3 = pd.read_csv(\"low_freq/house_3/channel_16.dat\", sep=\" \", header=None, index_col=0, squeeze=True)\n",
    "washer_dryer_h3_13 = pd.read_csv(\"low_freq/house_3/channel_13.dat\", sep=\" \", header=None, index_col=0, squeeze=True)\n",
    "washer_dryer_h3_14 = pd.read_csv(\"low_freq/house_3/channel_14.dat\", sep=\" \", header=None, index_col=0, squeeze=True)\n",
    "bathroom_gfi_h3 = pd.read_csv(\"low_freq/house_3/channel_20.dat\", sep=\" \", header=None, index_col=0, squeeze=True)\n",
    "kitchen_outlet_h3_21 = pd.read_csv(\"low_freq/house_3/channel_21.dat\", sep=\" \", header=None, index_col=0, squeeze=True)\n",
    "kitchen_outlet_h3_22 = pd.read_csv(\"low_freq/house_3/channel_22.dat\", sep=\" \", header=None, index_col=0, squeeze=True)"
   ]
  },
  {
   "cell_type": "code",
   "execution_count": null,
   "id": "c9dcc35f",
   "metadata": {},
   "outputs": [],
   "source": [
    "#5 min windows \n",
    "electric_furnace = electric_furnace[electric_furnace.index % 100 == 0]\n",
    "microwave_h3 = microwave_h3[microwave_h3.index % 100 == 0]\n",
    "washer_dryer_h3_13 = washer_dryer_h3_13[washer_dryer_h3_13.index % 100 == 0]\n",
    "washer_dryer_h3_14 = washer_dryer_h3_14[washer_dryer_h3_14.index % 100 == 0]\n",
    "bathroom_gfi_h3 = bathroom_gfi_h3[bathroom_gfi_h3.index % 100 == 0]\n",
    "kitchen_outlet_h3_21 = kitchen_outlet_h3_21[kitchen_outlet_h3_21.index % 100 == 0]\n",
    "kitchen_outlet_h3_22 = kitchen_outlet_h3_22[kitchen_outlet_h3_22.index % 100 == 0]"
   ]
  },
  {
   "cell_type": "code",
   "execution_count": null,
   "id": "9293e945",
   "metadata": {},
   "outputs": [],
   "source": [
    "#reindex\n",
    "electric_furnace = electric_furnace.reset_index(drop=True)\n",
    "microwave_h3 = microwave_h3.reset_index(drop=True)\n",
    "washer_dryer_h3_13 = washer_dryer_h3_13.reset_index(drop=True)\n",
    "washer_dryer_h3_14 = washer_dryer_h3_14.reset_index(drop=True)\n",
    "bathroom_gfi_h3 = bathroom_gfi_h3.reset_index(drop=True)\n",
    "kitchen_outlet_h3_21 = kitchen_outlet_h3_21.reset_index(drop=True)\n",
    "kitchen_outlet_h3_22 = kitchen_outlet_h3_22.reset_index(drop=True)"
   ]
  },
  {
   "cell_type": "markdown",
   "id": "ab5aa0c8",
   "metadata": {},
   "source": [
    "### Microwave"
   ]
  },
  {
   "cell_type": "code",
   "execution_count": null,
   "id": "e3eebd8a",
   "metadata": {},
   "outputs": [],
   "source": [
    "fig, ax = plt.subplots(figsize=(10, 10))\n",
    "ax.set_xlabel('t')\n",
    "ax.set_ylabel('power')\n",
    "ax.set_title('Time series plot of microwave (c16) in house 3')\n",
    "ax.plot(microwave_h3);\n",
    "#ax.set_ylim(0,100)\n",
    "\n",
    "plt.savefig('threshold/house3/microwave-house3-c16')"
   ]
  },
  {
   "cell_type": "markdown",
   "id": "bcab4303",
   "metadata": {},
   "source": [
    "### Electronics Furnace"
   ]
  },
  {
   "cell_type": "code",
   "execution_count": null,
   "id": "72900a14",
   "metadata": {},
   "outputs": [],
   "source": [
    "fig, ax = plt.subplots(figsize=(10, 10))\n",
    "ax.set_xlabel('t')\n",
    "ax.set_ylabel('power')\n",
    "ax.set_title('Time series plot of electric furnace (c10) in house 3')\n",
    "ax.plot(electric_furnace);\n",
    "#ax.set_ylim(0,100)\n",
    "\n",
    "plt.savefig('threshold/house3/furnace-house3-c10')"
   ]
  },
  {
   "cell_type": "markdown",
   "id": "705f1551",
   "metadata": {},
   "source": [
    "### Washer Dryer"
   ]
  },
  {
   "cell_type": "code",
   "execution_count": null,
   "id": "e8e73019",
   "metadata": {},
   "outputs": [],
   "source": [
    "fig, ax = plt.subplots(figsize=(10, 10))\n",
    "ax.set_xlabel('t')\n",
    "ax.set_ylabel('power')\n",
    "ax.set_title('Time series plot of washer dryer (c13) in house 3')\n",
    "ax.plot(washer_dryer_h3_13);\n",
    "#ax.set_ylim(0,100)\n",
    "\n",
    "plt.savefig('threshold/house3/washerdryer-house3-c13')"
   ]
  },
  {
   "cell_type": "code",
   "execution_count": null,
   "id": "8438de43",
   "metadata": {},
   "outputs": [],
   "source": [
    "fig, ax = plt.subplots(figsize=(10, 10))\n",
    "ax.set_xlabel('t')\n",
    "ax.set_ylabel('power')\n",
    "ax.set_title('Time series plot of washer dryer (c14) in house 3')\n",
    "ax.plot(washer_dryer_h3_14);\n",
    "#ax.set_ylim(0,100)\n",
    "\n",
    "plt.savefig('threshold/house3/washerdryer-house3-c14')"
   ]
  },
  {
   "cell_type": "markdown",
   "id": "94a4c34f",
   "metadata": {},
   "source": [
    "### Bathroom GFI"
   ]
  },
  {
   "cell_type": "code",
   "execution_count": null,
   "id": "9d5bd5de",
   "metadata": {},
   "outputs": [],
   "source": [
    "fig, ax = plt.subplots(figsize=(10, 10))\n",
    "ax.set_xlabel('t')\n",
    "ax.set_ylabel('power')\n",
    "ax.set_title('Time series plot of bathroom GFI (c20) in house 3')\n",
    "ax.plot(bathroom_gfi_h3);\n",
    "#ax.set_ylim(0,100)\n",
    "\n",
    "plt.savefig('threshold/house3/bathroomgfi-house3-c20')\n"
   ]
  },
  {
   "cell_type": "markdown",
   "id": "adb81365",
   "metadata": {},
   "source": [
    "### Kitchen Outlet"
   ]
  },
  {
   "cell_type": "code",
   "execution_count": null,
   "id": "a9b3210e",
   "metadata": {},
   "outputs": [],
   "source": [
    "fig, ax = plt.subplots(figsize=(10, 10))\n",
    "ax.set_xlabel('t')\n",
    "ax.set_ylabel('power')\n",
    "ax.set_title('Time series plot of kitchen outlet (c21) in house 3')\n",
    "ax.plot(kitchen_outlet_h3_21);\n",
    "#ax.set_ylim(0,200)\n",
    "\n",
    "plt.savefig('threshold/house3/kitchenoutlet-house3-c21')"
   ]
  },
  {
   "cell_type": "code",
   "execution_count": null,
   "id": "bbda09bf",
   "metadata": {},
   "outputs": [],
   "source": [
    "fig, ax = plt.subplots(figsize=(10, 10))\n",
    "ax.set_xlabel('t')\n",
    "ax.set_ylabel('power')\n",
    "ax.set_title('Time series plot of kitchen outlet (c22) in house 3')\n",
    "ax.plot(kitchen_outlet_h3_22);\n",
    "ax.set_ylim(0,200)\n",
    "\n",
    "#plt.savefig('threshold/house3/kitchenoutlet-house3-c22')"
   ]
  },
  {
   "cell_type": "code",
   "execution_count": null,
   "id": "efadbc0a",
   "metadata": {},
   "outputs": [],
   "source": []
  }
 ],
 "metadata": {
  "kernelspec": {
   "display_name": "Python 3 (ipykernel)",
   "language": "python",
   "name": "python3"
  },
  "language_info": {
   "codemirror_mode": {
    "name": "ipython",
    "version": 3
   },
   "file_extension": ".py",
   "mimetype": "text/x-python",
   "name": "python",
   "nbconvert_exporter": "python",
   "pygments_lexer": "ipython3",
   "version": "3.8.13"
  }
 },
 "nbformat": 4,
 "nbformat_minor": 5
}
